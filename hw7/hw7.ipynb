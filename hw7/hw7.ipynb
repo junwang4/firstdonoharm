{
 "cells": [
  {
   "cell_type": "code",
   "execution_count": null,
   "metadata": {
    "collapsed": true
   },
   "outputs": [],
   "source": [
    "from pprint import pprint\n",
    "import pandas as pd\n",
    "pd.options.display.max_colwidth = 2000"
   ]
  },
  {
   "cell_type": "markdown",
   "metadata": {},
   "source": [
    "### Find all the names of the 34 unsafe ingredients"
   ]
  },
  {
   "cell_type": "code",
   "execution_count": null,
   "metadata": {},
   "outputs": [],
   "source": [
    "df_unsafe = pd.read_csv('unsafe.csv')\n",
    "print(df_unsafe.shape)\n",
    "df_unsafe[:1]['ingredient other_names'.split()]"
   ]
  },
  {
   "cell_type": "code",
   "execution_count": null,
   "metadata": {},
   "outputs": [],
   "source": [
    "# Create a hash or dictionary lookup table for ingredient names\n",
    "# A hash table is essentially a dictionary; it maps a key to a value.\n",
    "# We use HASH here for fast checking if a word occurred in Amazon product description \n",
    "# is in the hash table (or dictionary) of ingredient\n",
    "\n",
    "import re\n",
    "\n",
    "name_hash = {}\n",
    "for ingredient, other_names in zip(df_unsafe['ingredient'], df_unsafe['other_names']):\n",
    "    name_hash[ingredient] = True\n",
    "    for name in other_names.split(', '):\n",
    "        name_hash[name] = True\n",
    "print(len(name_hash))\n",
    "\n",
    "# normalize names by removing non-alphanumeric characters\n",
    "# for example, we will convert Chuan-wu to Chuanwu\n",
    "name_hash_normalized = {}\n",
    "longest_name = \"\"\n",
    "longest_name_len = 0\n",
    "for name in name_hash:\n",
    "    name_parts = name.split()\n",
    "    if len(name_parts) > longest_name_len:\n",
    "        longest_name_len = len(name_parts)\n",
    "        longest_name = name\n",
    "    name_normalized = re.sub(r'\\W+', '', name.lower())  # \\w: a-zA-Z0-9 and _,  \\W non of the \\w set\n",
    "    name_hash_normalized[name_normalized] = True\n",
    "print(len(name_hash_normalized))\n",
    "print(list(name_hash_normalized)[:10])\n",
    "print(f\"longest name: {longest_name} (len: {longest_name_len})\")"
   ]
  },
  {
   "cell_type": "code",
   "execution_count": null,
   "metadata": {},
   "outputs": [],
   "source": [
    "import ast   # ast: abstract syntax tree\n",
    "\n",
    "asin_desc = {}\n",
    "amazon_health_json_fpath = \"aconite.json\"\n",
    "\n",
    "for line in open(amazon_health_json_fpath).readlines():\n",
    "    record = ast.literal_eval(line)\n",
    "    pprint(record)\n",
    "    break"
   ]
  },
  {
   "cell_type": "markdown",
   "metadata": {},
   "source": [
    "### download file meta_Health_and_Personal_Care.json\n",
    "\n",
    "from: https://textmining.ischool.syr.edu/share/kelly/"
   ]
  },
  {
   "cell_type": "code",
   "execution_count": null,
   "metadata": {},
   "outputs": [],
   "source": [
    "import ast   # ast: abstract syntax tree\n",
    "\n",
    "amazon_health_json_fpath = \"aconite.json\"\n",
    "# amazon_health_json_fpath = \"../data/meta_Health_and_Personal_Care.json\"\n",
    "\n",
    "asin_description = {}\n",
    "for line in open(amazon_health_json_fpath).readlines():\n",
    "    record = ast.literal_eval(line)\n",
    "    asin = record['asin']\n",
    "    categories = record['categories']\n",
    "    if not \"Vitamins & Dietary Supplements\" in categories[0]:\n",
    "        continue\n",
    "        \n",
    "    title = record['title']\n",
    "    desc = record['description']\n",
    "    print(f\"[TITLE] {title}\\n{asin}\\n\\n{desc}\\n\\n\")\n",
    "    asin_description[asin] = title + \" \" + desc"
   ]
  },
  {
   "cell_type": "markdown",
   "metadata": {},
   "source": [
    "### modify the above part to avoid the error \n",
    "```\n",
    "missing_cnt = 0\n",
    "for line in open(amazon_health_json_fpath).readlines():\n",
    "    record = ast.literal_eval(line)\n",
    "    asin = record['asin']\n",
    "    categories = record['categories']\n",
    "    if not \"Vitamins & Dietary Supplements\" in categories[0]:\n",
    "        continue\n",
    "        \n",
    "    try:\n",
    "        title = record['title']\n",
    "        desc = record['description']\n",
    "        asin_description[asin] = title + \" \" + desc\n",
    "    except:\n",
    "        missing_cnt += 1\n",
    "\n",
    "print(f'missing_cnt: {missing_cnt}')\n",
    "```\n",
    "\n",
    "Also, add `%%time` at the beginning a cell to find out the time used to execute the cell\n"
   ]
  },
  {
   "cell_type": "code",
   "execution_count": null,
   "metadata": {},
   "outputs": [],
   "source": [
    "def find_unsafe_ingredient_name_in_amazon_text(desc):\n",
    "    desc_norm = re.sub(r'\\W', ' ', desc.lower())\n",
    "    found_names = {}\n",
    "    for w in desc_norm.split():\n",
    "        if w in name_hash_normalized:\n",
    "            if w not in found_names:\n",
    "                found_names[w] = True\n",
    "    return list(found_names.keys())\n",
    "\n",
    "\n",
    "asin_namesfound = {}\n",
    "for asin, desc in asin_description.items():\n",
    "    names_found = find_unsafe_ingredient_name_in_amazon_text(desc)\n",
    "    if len(names_found) > 0:\n",
    "        asin_namesfound[asin] = names_found\n",
    "\n",
    "print(len(asin_namesfound))"
   ]
  },
  {
   "cell_type": "code",
   "execution_count": null,
   "metadata": {},
   "outputs": [],
   "source": [
    "asin_namesfound"
   ]
  },
  {
   "cell_type": "code",
   "execution_count": null,
   "metadata": {},
   "outputs": [],
   "source": [
    "names = list(asin_namesfound.values())\n",
    "asins = list(asin_namesfound.keys())\n",
    "data = {'asin': asins, 'names': names}\n",
    "\n",
    "df_amazon = pd.DataFrame(data)\n",
    "df_amazon.to_csv('/tmp/a.csv', index=False)\n",
    "print(df_amazon.shape)\n",
    "df_amazon.head()"
   ]
  },
  {
   "cell_type": "code",
   "execution_count": null,
   "metadata": {
    "collapsed": true
   },
   "outputs": [],
   "source": []
  },
  {
   "cell_type": "code",
   "execution_count": null,
   "metadata": {
    "collapsed": true
   },
   "outputs": [],
   "source": []
  },
  {
   "cell_type": "code",
   "execution_count": null,
   "metadata": {
    "collapsed": true
   },
   "outputs": [],
   "source": []
  },
  {
   "cell_type": "markdown",
   "metadata": {},
   "source": [
    "### Generate an HTML page that contains links to relevant Amazon product page\n",
    "\n",
    "For example, for the above product whose ASIN is B00008CMQ2,\n",
    "we can construct a link: https://www.amazon.com/dp/B00008CMQ2"
   ]
  },
  {
   "cell_type": "code",
   "execution_count": null,
   "metadata": {
    "collapsed": true
   },
   "outputs": [],
   "source": []
  },
  {
   "cell_type": "markdown",
   "metadata": {},
   "source": [
    "### Need more processing for special HTML entities\n",
    "\n",
    "For example, in the original display\n",
    "```\n",
    "1. \"&gt;\" is \">\"\n",
    "2. \"&egrave;\" is \"è\" (which will be converted to letter 'e' after removing accent)\n",
    "```\n",
    "\n",
    "After HTML rendering:\n",
    "\n",
    "1. \"&gt;\" is \">\"\n",
    "2. \"&egrave;\" is \"è\"\n"
   ]
  },
  {
   "cell_type": "code",
   "execution_count": null,
   "metadata": {
    "collapsed": true
   },
   "outputs": [],
   "source": [
    "import html\n",
    "\n",
    "s = 'Bulbif&egrave;re'\n",
    "s = html.unescape(s)\n",
    "print(s)"
   ]
  },
  {
   "cell_type": "code",
   "execution_count": null,
   "metadata": {
    "collapsed": true
   },
   "outputs": [],
   "source": [
    "import unidecode\n",
    "\n",
    "s = unidecode.unidecode(s)\n",
    "print(s)"
   ]
  },
  {
   "cell_type": "code",
   "execution_count": null,
   "metadata": {
    "collapsed": true
   },
   "outputs": [],
   "source": [
    "df.other_names = df.other_names.apply(lambda s: unidecode.unidecode(html.unescape(s)))\n",
    "df.iloc[28]['other_names']"
   ]
  },
  {
   "cell_type": "markdown",
   "metadata": {},
   "source": [
    "### Generate a HTML page for easy browse and exploration\n",
    "\n",
    "A third way to make a string: a multi-line string with \n",
    "\"\"\"\n",
    "your \n",
    "multi-line\n",
    "str \n",
    "here\n",
    "\"\"\""
   ]
  },
  {
   "cell_type": "code",
   "execution_count": null,
   "metadata": {
    "collapsed": true
   },
   "outputs": [],
   "source": [
    "out = \"\"\"\n",
    "<style>\n",
    "body {width: 960px; margin:auto; margin-top:10px; font-family:arial}\n",
    "a {text-decoration: none; font-size:120%; white-space:nowrap}\n",
    "table {border-collapse: collapse}\n",
    "td {border-right: 1px solid #eee}\n",
    "</style>\n",
    "<table cellpadding=8>\n",
    "\"\"\"\n",
    "\n",
    "import re\n",
    "no = 1\n",
    "for ingredient, other_names, href, side_effects in zip(df.ingredient, df.other_names, df.href, df.side_effects):\n",
    "#     side_effects = re.sub(r'\\s+(,|\\.)', r'\\1', side_effects)\n",
    "    \n",
    "    row = f\"\"\"<tr valign=top>\n",
    "    <td>{no}\n",
    "    <td align=right><a target=_blank href=\\\"{href}\\\">{ingredient}</a>\n",
    "    <td>{side_effects}\n",
    "    <td>{other_names}\n",
    "    </tr>\"\"\"\n",
    "    out += row\n",
    "    no += 1\n",
    "    \n",
    "html_outfile = '/tmp/a.html'\n",
    "open(html_outfile, 'w').write(out)\n",
    "html_outfile"
   ]
  },
  {
   "cell_type": "code",
   "execution_count": null,
   "metadata": {
    "collapsed": true
   },
   "outputs": [],
   "source": []
  },
  {
   "cell_type": "markdown",
   "metadata": {},
   "source": [
    "## Learn Regular Expressions (optional)\n",
    "\n",
    "check https://developers.google.com/edu/python/regular-expressions\n",
    "for more on Regular Expressions"
   ]
  },
  {
   "cell_type": "code",
   "execution_count": null,
   "metadata": {
    "collapsed": true
   },
   "outputs": [],
   "source": [
    "s = \"Aga is UNSAFE when taken by mouth . It sleepiness , confusion, dizziness  , delirium    , and death   .\"\n",
    "s.replace(' ,', ',')"
   ]
  },
  {
   "cell_type": "code",
   "execution_count": null,
   "metadata": {
    "collapsed": true
   },
   "outputs": [],
   "source": [
    "import re  # re: Regular Expression\n",
    "\n",
    "re.sub(r' +,', ',', s)"
   ]
  },
  {
   "cell_type": "markdown",
   "metadata": {},
   "source": [
    "### meta-characters, need to use \\ to get rid of the special meaning\n",
    "```\n",
    "\n",
    ". ^ $ * + ? { [ ] \\ | ( ) \n",
    "\n",
    "```\n",
    "\n",
    "Their special meaning\n",
    "```\n",
    ". => match any character (except new line)\n",
    "  e.g., \n",
    "\n",
    "^ => match the beginning\n",
    "\n",
    "* => repeat the previous character or a block any times (that is, zero or more times)\n",
    "\n",
    "+ => repeat the previous character or a block at least once\n",
    "\n",
    "? => match or not match the previous character or a block\n",
    "\n",
    "\\ => escape the special meaning\n",
    "\n",
    "| => or\n",
    "\n",
    "( ) => define a block, or something you want to extract\n",
    "\n",
    "[ ] => \n",
    "\n",
    "```"
   ]
  },
  {
   "cell_type": "code",
   "execution_count": null,
   "metadata": {
    "collapsed": true
   },
   "outputs": [],
   "source": [
    "re.sub(r' +.', '.', s)"
   ]
  },
  {
   "cell_type": "code",
   "execution_count": null,
   "metadata": {
    "collapsed": true
   },
   "outputs": [],
   "source": [
    "re.sub(r' +\\.', '.', s)"
   ]
  },
  {
   "cell_type": "code",
   "execution_count": null,
   "metadata": {
    "collapsed": true
   },
   "outputs": [],
   "source": [
    "re.sub(r' +(\\.|,)', '.', s)"
   ]
  }
 ],
 "metadata": {
  "kernelspec": {
   "display_name": "Python 3",
   "language": "python",
   "name": "python3"
  },
  "language_info": {
   "codemirror_mode": {
    "name": "ipython",
    "version": 3
   },
   "file_extension": ".py",
   "mimetype": "text/x-python",
   "name": "python",
   "nbconvert_exporter": "python",
   "pygments_lexer": "ipython3",
   "version": "3.6.3"
  }
 },
 "nbformat": 4,
 "nbformat_minor": 2
}
