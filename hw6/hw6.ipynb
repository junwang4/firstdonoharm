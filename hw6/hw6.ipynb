{
 "cells": [
  {
   "cell_type": "code",
   "execution_count": null,
   "metadata": {
    "collapsed": true
   },
   "outputs": [],
   "source": [
    "import pandas as pd\n",
    "pd.options.display.max_colwidth = 2000"
   ]
  },
  {
   "cell_type": "code",
   "execution_count": null,
   "metadata": {},
   "outputs": [],
   "source": [
    "df_other_names = pd.read_csv('ingredient_other_names.csv')\n",
    "df_other_names.head()"
   ]
  },
  {
   "cell_type": "code",
   "execution_count": null,
   "metadata": {},
   "outputs": [],
   "source": [
    "# first, create a new feature: \"num_names\", with lambda \n",
    "\n",
    "df_other_names['num_names'] = df_other_names.other_names.apply(lambda x: len(x.split(', ')))\n",
    "df_other_names.head()"
   ]
  },
  {
   "cell_type": "code",
   "execution_count": null,
   "metadata": {},
   "outputs": [],
   "source": [
    "# What is the largest number of those numbers of other names?\n",
    "\n",
    "df_other_names['num_names'].max()"
   ]
  },
  {
   "cell_type": "code",
   "execution_count": null,
   "metadata": {},
   "outputs": [],
   "source": [
    "# What is smallest one?\n",
    "\n",
    "df_other_names['num_names'].min()"
   ]
  },
  {
   "cell_type": "code",
   "execution_count": null,
   "metadata": {},
   "outputs": [],
   "source": [
    "# What is the average one?\n",
    "\n",
    "df_other_names['num_names'].mean()"
   ]
  },
  {
   "cell_type": "code",
   "execution_count": null,
   "metadata": {},
   "outputs": [],
   "source": [
    "# what about the median?   For a sequence: (3, 3, 4, 4, 4, 5, 5, 6, 50)  (mean: 9.3, median: 4, mode: 4)\n",
    "\n",
    "df_other_names['num_names'].median()"
   ]
  },
  {
   "cell_type": "code",
   "execution_count": null,
   "metadata": {},
   "outputs": [],
   "source": [
    "df_other_names['num_names'].mode()"
   ]
  },
  {
   "cell_type": "markdown",
   "metadata": {},
   "source": [
    "### Plot the distribution of number_of_names"
   ]
  },
  {
   "cell_type": "code",
   "execution_count": null,
   "metadata": {},
   "outputs": [],
   "source": [
    "%matplotlib inline\n",
    "\n",
    "df_other_names['num_names'].hist(bins=100, figsize=(15,5))"
   ]
  },
  {
   "cell_type": "code",
   "execution_count": null,
   "metadata": {},
   "outputs": [],
   "source": [
    "df_other_names['num_names'].plot.kde(bw_method=.05, figsize=(10,5))"
   ]
  },
  {
   "cell_type": "markdown",
   "metadata": {},
   "source": [
    "### Sort a pandas dataframe or table\n",
    "\n",
    "sort the above table by the number of other names"
   ]
  },
  {
   "cell_type": "code",
   "execution_count": null,
   "metadata": {},
   "outputs": [],
   "source": [
    "df_other_names.sort_values('num_names')[:5]"
   ]
  },
  {
   "cell_type": "code",
   "execution_count": null,
   "metadata": {},
   "outputs": [],
   "source": [
    "df_other_names.sort_values('num_names', ascending=False)[:3]"
   ]
  },
  {
   "cell_type": "markdown",
   "metadata": {},
   "source": [
    "### Find out the most common words used in the names\n",
    "\n",
    "We want to calculate the frequency or the occurrences of each word"
   ]
  },
  {
   "cell_type": "code",
   "execution_count": null,
   "metadata": {},
   "outputs": [],
   "source": [
    "s = \"Abebrodstrae, Adansonia, Adansonia bahoba, Adansonia baobab, Adansonia digitata, Adansonia situla, Adansonia somalensis, Adansonsia sphaerocarpa, Adansonia sulcata, Adansonie d' Afrique, Affenbrotbaum, African Baobab, Afrikaanse Kremetart, Afrikanischer Baobab, Albero Bottiglia, Albero di Mille Anni, Apebroodboom, Apenbroodboom, Arbre a Palabre, Arbre Bouteille, Arbre de Mille Ans, Bao Bap Chau Phi, Baob, Baoba, Baobab Africain, Baobaba, Baobabu, Baobab Afrykanski, Baobab Agaci, Baobab del Africa, Baobab Africain, Baobab Africano, Baobab de Mahajanga, Baobab de Mozambique, Baobab Fruit, Baobab Milk, Baobab of Mahajanga, Baobab Prstnaty, Baobab Seed, Baobab Seed Oil, Baobab Tree, Baobab Wlasciwy, Baobab Yemisi, Baovola, Bawbab, Boab, Boaboa, Boringy, Bottle Tree, Boy, Bozobe, Calebassier du Senegal, Cream-Tartar Tree, Dead Rat Tree, Dton Baobab, Ethiopian Sour Bread, Fruit de Baobab, Graine de Baobab, Gros Mapou, Harilik Ahvileivapuu, Hou Mian Bao Shu, Huile de Graines de Baobab, Imbondeiro, Judas Fruit, Judas Fruit Trees, Kremetart, Kremetartboom, Lait de Baobab, Maymun Ekmegi Agaci, Mboio, Mboy, Monkey Bread Tree, Noce d'Egitto, Pain de Singe, Rainiala, Reniala, Ringy, Sefo, Shagar El Bawbab, Shagar Khubz El Qurud, Sour Gourd, Upside-Down Tree, Vanoa, Vontana\"\n",
    "s2 = s.lower().replace(', ', ' ')\n",
    "s2"
   ]
  },
  {
   "cell_type": "code",
   "execution_count": null,
   "metadata": {},
   "outputs": [],
   "source": [
    "s2.split()"
   ]
  },
  {
   "cell_type": "code",
   "execution_count": null,
   "metadata": {},
   "outputs": [],
   "source": [
    "len(s2.split())"
   ]
  },
  {
   "cell_type": "markdown",
   "metadata": {},
   "source": [
    "### A simple example of counting the occurrences of unique elements in a list\n",
    "\n",
    "- Suppose we have a list ['apple', 'banana', 'orange', 'banana', 'banana', 'apple'], \n",
    "- how can we find out there are 3 bananas, 2 apples, and 1 orange.\n",
    "\n",
    "We will use a data structure, called dictionary or dict to do it.\n",
    "\n",
    "A dict has two parts: key and value. Here, the key is the fruit name, and the value is the occurrences of the fruit name\n",
    "\n",
    "\n",
    "Setup: ( 0 => zero count )\n",
    "```\n",
    "fruit_count = {}\n",
    "fruit_count['apple'] = 0\n",
    "fruit_count['banana'] = 0\n",
    "fruit_count['orange'] = 0\n",
    "print(fruit_count)\n",
    "```\n",
    "\n",
    "When we see an apple, we add 1 to  `fruit_count['apple']`\n",
    "```\n",
    "fruit_count['apple'] += 1\n",
    "print(fruit_count)\n",
    "```\n",
    "\n",
    "In general, when we see a fruit, we add 1 to  `fruit_count[fruit]`\n",
    "```\n",
    "fruit = 'orange'\n",
    "fruit_count[fruit] += 1\n",
    "print(fruit_count)\n",
    "\n",
    "fruit = 'apple'\n",
    "fruit_count[fruit] += 1\n",
    "print(fruit_count)\n",
    "```"
   ]
  },
  {
   "cell_type": "code",
   "execution_count": null,
   "metadata": {},
   "outputs": [],
   "source": [
    "# Play with the above statements, or by uncommenting the following stuff one by one\n",
    "\n",
    "# fruit_count = {}\n",
    "# print(fruit_count)\n",
    "\n",
    "# fruit_count['apple'] = 0\n",
    "# fruit_count['banana'] = 0\n",
    "# fruit_count['orange'] = 0\n",
    "# print(fruit_count)\n",
    "\n",
    "# fruit_count['apple'] += 1\n",
    "# print(fruit_count)\n",
    "\n",
    "# fruit = 'apple'\n",
    "# fruit_count[fruit] += 1\n",
    "# print(fruit_count)\n",
    "\n",
    "# fruit = 'orange'\n",
    "# fruit_count[fruit] += 1\n",
    "# print(fruit_count)\n"
   ]
  },
  {
   "cell_type": "code",
   "execution_count": null,
   "metadata": {},
   "outputs": [],
   "source": [
    "fruit_cnt = {}\n",
    "for fruit in ['apple', 'banana', 'pear', 'banana', 'banana', 'apple']:\n",
    "    if fruit not in fruit_cnt:\n",
    "        fruit_cnt[fruit] = 0\n",
    "    fruit_cnt[fruit] += 1\n",
    "\n",
    "fruit_cnt"
   ]
  },
  {
   "cell_type": "markdown",
   "metadata": {},
   "source": [
    "### Back to our word counting problem"
   ]
  },
  {
   "cell_type": "code",
   "execution_count": null,
   "metadata": {},
   "outputs": [],
   "source": [
    "word_freq = {}\n",
    "\n",
    "for w in s2.split():\n",
    "    if w not in word_freq:\n",
    "        word_freq[w] = 0\n",
    "    word_freq[w] += 1\n",
    "\n",
    "word_freq"
   ]
  },
  {
   "cell_type": "markdown",
   "metadata": {},
   "source": [
    "### The above print out is sorted by the words alphabetically\n",
    "\n",
    "What if we want to sort word_freq by the freq instead of the word?"
   ]
  },
  {
   "cell_type": "code",
   "execution_count": null,
   "metadata": {},
   "outputs": [],
   "source": [
    "fruit_cnt"
   ]
  },
  {
   "cell_type": "code",
   "execution_count": null,
   "metadata": {},
   "outputs": [],
   "source": [
    "fruit_cnt.keys()"
   ]
  },
  {
   "cell_type": "code",
   "execution_count": null,
   "metadata": {},
   "outputs": [],
   "source": [
    "fruit_cnt.values()"
   ]
  },
  {
   "cell_type": "code",
   "execution_count": null,
   "metadata": {},
   "outputs": [],
   "source": [
    "fruit_cnt.items()"
   ]
  },
  {
   "cell_type": "code",
   "execution_count": null,
   "metadata": {},
   "outputs": [],
   "source": [
    "list(fruit_cnt.items())"
   ]
  },
  {
   "cell_type": "code",
   "execution_count": null,
   "metadata": {},
   "outputs": [],
   "source": [
    "item = list(fruit_cnt.items())[0]\n",
    "item"
   ]
  },
  {
   "cell_type": "code",
   "execution_count": null,
   "metadata": {},
   "outputs": [],
   "source": [
    "item[0]"
   ]
  },
  {
   "cell_type": "code",
   "execution_count": null,
   "metadata": {},
   "outputs": [],
   "source": [
    "item[1]"
   ]
  },
  {
   "cell_type": "code",
   "execution_count": null,
   "metadata": {},
   "outputs": [],
   "source": [
    "sorted(fruit_cnt.items())"
   ]
  },
  {
   "cell_type": "code",
   "execution_count": null,
   "metadata": {},
   "outputs": [],
   "source": [
    "sorted(fruit_cnt.items(), key=lambda item: item[1])"
   ]
  },
  {
   "cell_type": "code",
   "execution_count": null,
   "metadata": {},
   "outputs": [],
   "source": [
    "sorted(fruit_cnt.items(), key=lambda item: item[1], reverse=True)"
   ]
  },
  {
   "cell_type": "markdown",
   "metadata": {},
   "source": [
    "### Another example of using the \"key\" parameter in sorted( )\n",
    "\n",
    "Sort a list ['apple', 'pear', 'banana'] by the size of the name (how many letters in a name)\n",
    "```\n",
    "['apple', 'pear', 'banana']\n",
    "=> \n",
    "['pear', 'apple', 'banana']\n",
    "```"
   ]
  },
  {
   "cell_type": "code",
   "execution_count": null,
   "metadata": {
    "collapsed": true
   },
   "outputs": [],
   "source": [
    "names = ['apple', 'pear', 'banana']\n",
    "# sorted(names, key=lambda name: ??)"
   ]
  },
  {
   "cell_type": "markdown",
   "metadata": {},
   "source": [
    "### Now back to sorting our word_freq"
   ]
  },
  {
   "cell_type": "code",
   "execution_count": null,
   "metadata": {},
   "outputs": [],
   "source": [
    "sorted_word_freq = sorted(word_freq.items(), key=lambda item: item[1], reverse=True)\n",
    "sorted_word_freq"
   ]
  },
  {
   "cell_type": "code",
   "execution_count": null,
   "metadata": {
    "collapsed": true
   },
   "outputs": [],
   "source": []
  },
  {
   "cell_type": "code",
   "execution_count": null,
   "metadata": {},
   "outputs": [],
   "source": [
    "from IPython.display import Image\n",
    "Image(url='https://upload.wikimedia.org/wikipedia/commons/thumb/a/a8/Adansonia_grandidieri04.jpg/180px-Adansonia_grandidieri04.jpg')"
   ]
  },
  {
   "cell_type": "markdown",
   "metadata": {},
   "source": [
    "### Learn a new Pandas display setting:\n",
    "\n",
    "pd.options.display.width"
   ]
  },
  {
   "cell_type": "code",
   "execution_count": null,
   "metadata": {},
   "outputs": [],
   "source": [
    "df_unsafe = pd.read_csv('unsafe_by_mouth.csv')\n",
    "print(df_unsafe.shape)\n",
    "print(df_unsafe[:3])"
   ]
  },
  {
   "cell_type": "code",
   "execution_count": null,
   "metadata": {},
   "outputs": [],
   "source": [
    "print(pd.options.display.width)\n",
    "len('0    aconite  https://www.webmd.com/vitamins/ai/ingredientmono-609/aconite')"
   ]
  },
  {
   "cell_type": "code",
   "execution_count": null,
   "metadata": {},
   "outputs": [],
   "source": [
    "pd.options.display.width = 500\n",
    "df_unsafe = pd.read_csv('unsafe_by_mouth.csv')\n",
    "print(df_unsafe.shape)\n",
    "print(df_unsafe[:4])"
   ]
  },
  {
   "cell_type": "markdown",
   "metadata": {},
   "source": [
    "### Merge df_other_names and df_unsafe"
   ]
  },
  {
   "cell_type": "code",
   "execution_count": null,
   "metadata": {
    "scrolled": true
   },
   "outputs": [],
   "source": [
    "df = pd.merge(df_other_names, df_unsafe)\n",
    "print(df.shape)\n",
    "df[:2]"
   ]
  },
  {
   "cell_type": "code",
   "execution_count": null,
   "metadata": {},
   "outputs": [],
   "source": [
    "df.sort_values('num_names', ascending=False)[:3]"
   ]
  },
  {
   "cell_type": "markdown",
   "metadata": {},
   "source": [
    "### Add the full \"side effects\" paragraph that we extracted before\n",
    "\n",
    "The side effects will be used in HTML page for easy browse"
   ]
  },
  {
   "cell_type": "code",
   "execution_count": null,
   "metadata": {},
   "outputs": [],
   "source": [
    "df_side_effects = pd.read_csv('ingredient_side_effects.csv')\n",
    "print(df_side_effects.shape)\n",
    "df_side_effects[:3]"
   ]
  },
  {
   "cell_type": "code",
   "execution_count": null,
   "metadata": {},
   "outputs": [],
   "source": [
    "df = pd.merge(df, df_side_effects)\n",
    "df[:1]"
   ]
  },
  {
   "cell_type": "markdown",
   "metadata": {},
   "source": [
    "### Need more processing for special HTML entities\n",
    "\n",
    "For example, in the original display\n",
    "```\n",
    "1. \"&gt;\" is \">\"\n",
    "2. \"&egrave;\" is \"è\" (which will be converted to letter 'e' after removing accent)\n",
    "```\n",
    "\n",
    "After HTML rendering:\n",
    "\n",
    "1. \"&gt;\" is \">\"\n",
    "2. \"&egrave;\" is \"è\"\n"
   ]
  },
  {
   "cell_type": "code",
   "execution_count": null,
   "metadata": {},
   "outputs": [],
   "source": [
    "import html\n",
    "\n",
    "s = 'Bulbif&egrave;re'\n",
    "s = html.unescape(s)\n",
    "print(s)"
   ]
  },
  {
   "cell_type": "code",
   "execution_count": null,
   "metadata": {},
   "outputs": [],
   "source": [
    "import unidecode\n",
    "\n",
    "s = unidecode.unidecode(s)\n",
    "print(s)"
   ]
  },
  {
   "cell_type": "code",
   "execution_count": null,
   "metadata": {},
   "outputs": [],
   "source": [
    "df.other_names = df.other_names.apply(lambda s: unidecode.unidecode(html.unescape(s)))\n",
    "df.iloc[28]['other_names']"
   ]
  },
  {
   "cell_type": "markdown",
   "metadata": {},
   "source": [
    "### Generate a HTML page for easy browse and exploration\n",
    "\n",
    "A third way to make a string: a multi-line string with \n",
    "\"\"\"\n",
    "your \n",
    "multi-line\n",
    "str \n",
    "here\n",
    "\"\"\""
   ]
  },
  {
   "cell_type": "code",
   "execution_count": null,
   "metadata": {},
   "outputs": [],
   "source": [
    "out = \"\"\"\n",
    "<style>\n",
    "body {width: 960px; margin:auto; margin-top:10px; font-family:arial}\n",
    "a {text-decoration: none; font-size:120%; white-space:nowrap}\n",
    "table {border-collapse: collapse}\n",
    "td {border-right: 1px solid #eee}\n",
    "</style>\n",
    "<table cellpadding=8>\n",
    "\"\"\"\n",
    "\n",
    "import re\n",
    "no = 1\n",
    "for ingredient, other_names, href, side_effects in zip(df.ingredient, df.other_names, df.href, df.side_effects):\n",
    "#     side_effects = re.sub(r'\\s+(,|\\.)', r'\\1', side_effects)\n",
    "    \n",
    "    row = f\"\"\"<tr valign=top>\n",
    "    <td>{no}\n",
    "    <td align=right><a target=_blank href=\\\"{href}\\\">{ingredient}</a>\n",
    "    <td>{side_effects}\n",
    "    <td>{other_names}\n",
    "    </tr>\"\"\"\n",
    "    out += row\n",
    "    no += 1\n",
    "    \n",
    "html_outfile = '/tmp/a.html'\n",
    "open(html_outfile, 'w').write(out)\n",
    "html_outfile"
   ]
  },
  {
   "cell_type": "code",
   "execution_count": null,
   "metadata": {
    "collapsed": true
   },
   "outputs": [],
   "source": []
  },
  {
   "cell_type": "markdown",
   "metadata": {},
   "source": [
    "## Learn Regular Expressions (optional)\n",
    "\n",
    "check https://developers.google.com/edu/python/regular-expressions\n",
    "for more on Regular Expressions"
   ]
  },
  {
   "cell_type": "code",
   "execution_count": null,
   "metadata": {},
   "outputs": [],
   "source": [
    "s = \"Aga is UNSAFE when taken by mouth . It sleepiness , confusion, dizziness  , delirium    , and death   .\"\n",
    "s.replace(' ,', ',')"
   ]
  },
  {
   "cell_type": "code",
   "execution_count": null,
   "metadata": {},
   "outputs": [],
   "source": [
    "import re  # re: Regular Expression\n",
    "\n",
    "re.sub(r' +,', ',', s)"
   ]
  },
  {
   "cell_type": "markdown",
   "metadata": {},
   "source": [
    "### meta-characters, need to use \\ to get rid of the special meaning\n",
    "```\n",
    "\n",
    ". ^ $ * + ? { [ ] \\ | ( ) \n",
    "\n",
    "```\n",
    "\n",
    "Their special meaning\n",
    "```\n",
    ". => match any character (except new line)\n",
    "  e.g., \n",
    "\n",
    "^ => match the beginning\n",
    "\n",
    "* => repeat the previous character or a block any times (that is, zero or more times)\n",
    "\n",
    "+ => repeat the previous character or a block at least once\n",
    "\n",
    "? => match or not match the previous character or a block\n",
    "\n",
    "\\ => escape the special meaning\n",
    "\n",
    "| => or\n",
    "\n",
    "( ) => define a block, or something you want to extract\n",
    "\n",
    "[ ] => \n",
    "\n",
    "```"
   ]
  },
  {
   "cell_type": "code",
   "execution_count": null,
   "metadata": {},
   "outputs": [],
   "source": [
    "re.sub(r' +.', '.', s)"
   ]
  },
  {
   "cell_type": "code",
   "execution_count": null,
   "metadata": {},
   "outputs": [],
   "source": [
    "re.sub(r' +\\.', '.', s)"
   ]
  },
  {
   "cell_type": "code",
   "execution_count": null,
   "metadata": {},
   "outputs": [],
   "source": [
    "re.sub(r' +(\\.|,)', '.', s)"
   ]
  }
 ],
 "metadata": {
  "kernelspec": {
   "display_name": "Python 3",
   "language": "python",
   "name": "python3"
  },
  "language_info": {
   "codemirror_mode": {
    "name": "ipython",
    "version": 3
   },
   "file_extension": ".py",
   "mimetype": "text/x-python",
   "name": "python",
   "nbconvert_exporter": "python",
   "pygments_lexer": "ipython3",
   "version": "3.6.3"
  }
 },
 "nbformat": 4,
 "nbformat_minor": 2
}
