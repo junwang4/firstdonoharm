{
 "cells": [
  {
   "cell_type": "code",
   "execution_count": 33,
   "metadata": {},
   "outputs": [],
   "source": [
    "import re\n",
    "data = open('Prob07.in.txt').read()[2:]\n",
    "problems = re.findall(r'(\\d+)\\n([a-zA-Z\\n]+?)\\n(\\d+),(\\d+)\\n(\\d+)\\n([-O\\n]+)', data)"
   ]
  },
  {
   "cell_type": "code",
   "execution_count": 34,
   "metadata": {},
   "outputs": [
    {
     "data": {
      "text/plain": [
       "5"
      ]
     },
     "execution_count": 34,
     "metadata": {},
     "output_type": "execute_result"
    }
   ],
   "source": [
    "len(problems)"
   ]
  },
  {
   "cell_type": "code",
   "execution_count": 35,
   "metadata": {},
   "outputs": [
    {
     "data": {
      "text/plain": [
       "('41', '8', '1', '21')"
      ]
     },
     "execution_count": 35,
     "metadata": {},
     "output_type": "execute_result"
    }
   ],
   "source": [
    "rows, text, start_row, start_col, lines, cover = problems[-1]\n",
    "rows, start_row, start_col, lines"
   ]
  },
  {
   "cell_type": "code",
   "execution_count": 36,
   "metadata": {},
   "outputs": [
    {
     "data": {
      "text/plain": [
       "(41, 8, 1, 21)"
      ]
     },
     "execution_count": 36,
     "metadata": {},
     "output_type": "execute_result"
    }
   ],
   "source": [
    "rows = int(rows)\n",
    "start_row = int(start_row)\n",
    "start_col = int(start_col)\n",
    "lines = int(lines)\n",
    "rows, start_row, start_col, lines"
   ]
  },
  {
   "cell_type": "code",
   "execution_count": 37,
   "metadata": {},
   "outputs": [
    {
     "name": "stdout",
     "output_type": "stream",
     "text": [
      "41\n",
      "21\n"
     ]
    }
   ],
   "source": [
    "print(len(text.split()))\n",
    "print(len(cover.split()))"
   ]
  },
  {
   "cell_type": "code",
   "execution_count": 38,
   "metadata": {},
   "outputs": [
    {
     "name": "stdout",
     "output_type": "stream",
     "text": [
      "TCtMhqVVXebASPCwsHGNIFVBFaBNRjjkXUqEttaMFaIqSXXOfgGCoeGQsEdI"
     ]
    }
   ],
   "source": [
    "text_rows = text.split()\n",
    "cover_rows = cover.split()\n",
    "for i in range(len(cover_rows)):\n",
    "    for j in range(len(cover_rows[i])):\n",
    "        char = cover_rows[i][j]\n",
    "        if char == 'O':\n",
    "            wanted = text_rows[i+start_row][j+start_col]\n",
    "            print(wanted, end='')\n",
    "            "
   ]
  }
 ],
 "metadata": {
  "kernelspec": {
   "display_name": "Python 3",
   "language": "python",
   "name": "python3"
  },
  "language_info": {
   "codemirror_mode": {
    "name": "ipython",
    "version": 3
   },
   "file_extension": ".py",
   "mimetype": "text/x-python",
   "name": "python",
   "nbconvert_exporter": "python",
   "pygments_lexer": "ipython3",
   "version": "3.6.3"
  }
 },
 "nbformat": 4,
 "nbformat_minor": 2
}
