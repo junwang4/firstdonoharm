{
 "cells": [
  {
   "cell_type": "markdown",
   "metadata": {},
   "source": [
    "Part 1: Play with a small sample of html doc: extract all page links from the sample\n",
    "    \n",
    "Part 2: Parse one file to get all of its links"
   ]
  },
  {
   "cell_type": "code",
   "execution_count": 2,
   "metadata": {
    "collapsed": true
   },
   "outputs": [],
   "source": [
    "import string\n",
    "import os\n",
    "from bs4 import BeautifulSoup"
   ]
  },
  {
   "cell_type": "markdown",
   "metadata": {},
   "source": [
    "### BeautifulSoup documentation\n",
    "https://www.crummy.com/software/BeautifulSoup/bs4/doc/"
   ]
  },
  {
   "cell_type": "markdown",
   "metadata": {},
   "source": [
    "## Part 1: Play with a small sample of html doc"
   ]
  },
  {
   "cell_type": "code",
   "execution_count": 34,
   "metadata": {
    "collapsed": true
   },
   "outputs": [],
   "source": [
    "# html_doc is an excerpt that I pull out of index_pages/a.html\n",
    "# The purpose here is to use BeautifulSoup to parse the html_doc and find relevant page links\n",
    "\n",
    "html_doc = \"\"\"\n",
    "<html><head><title>Whatever the title</title></head>\n",
    "<body>\n",
    "... skipped ...\n",
    "\n",
    "<div class=\"vitamins-list-container\" data-metrics-module=\"vs-az\">\n",
    "  <ul class=\"vitamins-list\">\n",
    "    <li><a data-metrics-link=\"link\" href=\"https://www.webmd.com/vitamins/ai/ingredientmono-266/abscess-root\">ABSCESS ROOT</a></li>\n",
    "    <li><a data-metrics-link=\"link\" href=\"https://www.webmd.com/vitamins/ai/ingredientmono-267/abuta\">ABUTA</a></li>\n",
    "    <li><a data-metrics-link=\"link\" href=\"https://www.webmd.com/vitamins/ai/ingredientmono-268/acacia\">ACACIA</a></li>\n",
    "    <li><a data-metrics-link=\"link\" href=\"https://www.webmd.com/vitamins-supplements/ingredientmono-1550-AYAHUASCA.aspx?activeIngredientId=1550&amp;activeIngredientName=AYAHUASCA&amp;source=0\">AYAHUASCA</a></li>\n",
    "  </ul>\n",
    "</div><!--END of vitamin_supplementsaz_widget--><!--vitamin_searchresult_widget:  091e9c5e81809003--><!--END of vitamin_searchresult_widget--></div><div id=\"ContentPane31\" class=\"pane\" tabindex=\"-1\"><!--$$ContentPane31$$--></div><div id=\"ContentPane32\" class=\"pane\" tabindex=\"-1\"><!--$$ContentPane32$$--></div><div id=\"ContentPane33\" class=\"pane\" tabindex=\"-1\"><!--$$ContentPane33$$--></div><div id=\"ContentPane34\" class=\"pane\" tabindex=\"-1\"><!--$$ContentPane34$$--></div><div id=\"ContentPane35\" class=\"pane\" tabindex=\"-1\"></div><div id=\"ContentPane36\" class=\"pane\" tabindex=\"-1\"><!--$$ContentPane36$$--></div></div>\n",
    "            <div class=\"main-container main-container-3\" tabindex=\"-1\" data-js=\"main-container-3\"><div id=\"ContentPane37\" class=\"pane\" tabindex=\"-1\"><aside class=\"module module-unified-right-rail module-ed-urr oas-enabled\" id=\"ed-urr\" data-metrics-module=\"ed-urr\" role=\"complementary\">\n",
    "\n",
    "... skipped ...\n",
    "\"\"\""
   ]
  },
  {
   "cell_type": "code",
   "execution_count": 37,
   "metadata": {
    "collapsed": true
   },
   "outputs": [],
   "source": [
    "# call bs4 to parse html_doc\n",
    "soup = BeautifulSoup(html_doc, 'html.parser')"
   ]
  },
  {
   "cell_type": "code",
   "execution_count": 44,
   "metadata": {},
   "outputs": [
    {
     "data": {
      "text/plain": [
       "<ul class=\"vitamins-list\">\n",
       "<li><a data-metrics-link=\"link\" href=\"https://www.webmd.com/vitamins/ai/ingredientmono-266/abscess-root\">ABSCESS ROOT</a></li>\n",
       "<li><a data-metrics-link=\"link\" href=\"https://www.webmd.com/vitamins/ai/ingredientmono-267/abuta\">ABUTA</a></li>\n",
       "<li><a data-metrics-link=\"link\" href=\"https://www.webmd.com/vitamins/ai/ingredientmono-268/acacia\">ACACIA</a></li>\n",
       "<li><a data-metrics-link=\"link\" href=\"https://www.webmd.com/vitamins-supplements/ingredientmono-1550-AYAHUASCA.aspx?activeIngredientId=1550&amp;activeIngredientName=AYAHUASCA&amp;source=0\">AYAHUASCA</a></li>\n",
       "</ul>"
      ]
     },
     "execution_count": 44,
     "metadata": {},
     "output_type": "execute_result"
    }
   ],
   "source": [
    "# we are only interested in the part of \"<ul class=vitamins-list>...</ul>\"\n",
    "scope = soup.select_one(\".vitamins-list\")\n",
    "scope"
   ]
  },
  {
   "cell_type": "code",
   "execution_count": 45,
   "metadata": {},
   "outputs": [
    {
     "data": {
      "text/plain": [
       "[<a data-metrics-link=\"link\" href=\"https://www.webmd.com/vitamins/ai/ingredientmono-266/abscess-root\">ABSCESS ROOT</a>,\n",
       " <a data-metrics-link=\"link\" href=\"https://www.webmd.com/vitamins/ai/ingredientmono-267/abuta\">ABUTA</a>,\n",
       " <a data-metrics-link=\"link\" href=\"https://www.webmd.com/vitamins/ai/ingredientmono-268/acacia\">ACACIA</a>,\n",
       " <a data-metrics-link=\"link\" href=\"https://www.webmd.com/vitamins-supplements/ingredientmono-1550-AYAHUASCA.aspx?activeIngredientId=1550&amp;activeIngredientName=AYAHUASCA&amp;source=0\">AYAHUASCA</a>]"
      ]
     },
     "execution_count": 45,
     "metadata": {},
     "output_type": "execute_result"
    }
   ],
   "source": [
    "# get all anchor elements\n",
    "anchors = scope.find_all('a')\n",
    "anchors"
   ]
  },
  {
   "cell_type": "code",
   "execution_count": 46,
   "metadata": {},
   "outputs": [
    {
     "name": "stdout",
     "output_type": "stream",
     "text": [
      "ABSCESS ROOT https://www.webmd.com/vitamins/ai/ingredientmono-266/abscess-root\n",
      "ABUTA https://www.webmd.com/vitamins/ai/ingredientmono-267/abuta\n",
      "ACACIA https://www.webmd.com/vitamins/ai/ingredientmono-268/acacia\n",
      "AYAHUASCA https://www.webmd.com/vitamins-supplements/ingredientmono-1550-AYAHUASCA.aspx?activeIngredientId=1550&activeIngredientName=AYAHUASCA&source=0\n"
     ]
    }
   ],
   "source": [
    "# get the name and the href attribute (url location) of each anchor\n",
    "for anchor in anchors:\n",
    "    name = anchor.string\n",
    "    href = anchor['href']\n",
    "    print(name, href)"
   ]
  },
  {
   "cell_type": "markdown",
   "metadata": {},
   "source": [
    "## Part 2: Parse one whole file"
   ]
  },
  {
   "cell_type": "code",
   "execution_count": 58,
   "metadata": {
    "collapsed": true
   },
   "outputs": [],
   "source": [
    "# read the file index_pages/a.html\n",
    "folder = \"../HW1/index_pages\"\n",
    "letter = \"a\"\n",
    "filename = letter + \".html\"\n",
    "filepath = folder + \"/\" + filename\n",
    "html_doc = open(filepath).read()"
   ]
  },
  {
   "cell_type": "code",
   "execution_count": 48,
   "metadata": {},
   "outputs": [
    {
     "name": "stdout",
     "output_type": "stream",
     "text": [
      "ABSCESS ROOT https://www.webmd.com/vitamins/ai/ingredientmono-266/abscess-root\n",
      "ABUTA https://www.webmd.com/vitamins/ai/ingredientmono-267/abuta\n",
      "ACACIA https://www.webmd.com/vitamins/ai/ingredientmono-268/acacia\n",
      "ACACIA RIGIDULA https://www.webmd.com/vitamins/ai/ingredientmono-1411/acacia-rigidula\n",
      "ACAI https://www.webmd.com/vitamins/ai/ingredientmono-1109/acai\n",
      "ACEROLA https://www.webmd.com/vitamins/ai/ingredientmono-608/acerola\n",
      "ACETYL-L-CARNITINE https://www.webmd.com/vitamins/ai/ingredientmono-834/acetyl-l-carnitine\n",
      "ACKEE https://www.webmd.com/vitamins/ai/ingredientmono-817/ackee\n",
      "ACONITE https://www.webmd.com/vitamins/ai/ingredientmono-609/aconite\n",
      "ACTIVATED CHARCOAL https://www.webmd.com/vitamins/ai/ingredientmono-269/activated-charcoal\n",
      "ADENOSINE https://www.webmd.com/vitamins/ai/ingredientmono-1067/adenosine\n",
      "ADRENAL EXTRACT https://www.webmd.com/vitamins/ai/ingredientmono-941/adrenal-extract\n",
      "ADRUE https://www.webmd.com/vitamins/ai/ingredientmono-48/adrue\n",
      "AFRICAN WILD POTATO https://www.webmd.com/vitamins/ai/ingredientmono-671/african-wild-potato\n",
      "AGA https://www.webmd.com/vitamins/ai/ingredientmono-190/aga\n",
      "AGAR https://www.webmd.com/vitamins/ai/ingredientmono-80/agar\n",
      "AGARICUS MUSHROOM https://www.webmd.com/vitamins/ai/ingredientmono-1165/agaricus-mushroom\n",
      "AGAVE https://www.webmd.com/vitamins/ai/ingredientmono-1450/agave\n",
      "AGRIMONY https://www.webmd.com/vitamins/ai/ingredientmono-604/agrimony\n",
      "AHCC https://www.webmd.com/vitamins/ai/ingredientmono-1110/ahcc\n",
      "AJUGA NIPPONENSIS https://www.webmd.com/vitamins/ai/ingredientmono-1137/ajuga-nipponensis\n",
      "ALBIZIA https://www.webmd.com/vitamins/ai/ingredientmono-1451/albizia\n",
      "ALCHEMILLA https://www.webmd.com/vitamins/ai/ingredientmono-654/alchemilla\n",
      "ALDER BUCKTHORN https://www.webmd.com/vitamins/ai/ingredientmono-850/alder-buckthorn\n",
      "ALETRIS https://www.webmd.com/vitamins/ai/ingredientmono-605/aletris\n",
      "ALFALFA https://www.webmd.com/vitamins/ai/ingredientmono-19/alfalfa\n",
      "ALGIN https://www.webmd.com/vitamins/ai/ingredientmono-275/algin\n",
      "ALKANNA https://www.webmd.com/vitamins/ai/ingredientmono-606/alkanna\n",
      "ALLSPICE https://www.webmd.com/vitamins/ai/ingredientmono-81/allspice\n",
      "ALOE https://www.webmd.com/vitamins/ai/ingredientmono-607/aloe\n",
      "ALPHA HYDROXY ACIDS https://www.webmd.com/vitamins/ai/ingredientmono-977/alpha-hydroxy-acids\n",
      "ALPHA-ALANINE https://www.webmd.com/vitamins/ai/ingredientmono-1247/alpha-alanine\n",
      "ALPHA-GPC https://www.webmd.com/vitamins/ai/ingredientmono-1087/alpha-gpc\n",
      "ALPHA-KETOGLUTARATE https://www.webmd.com/vitamins/ai/ingredientmono-144/alpha-ketoglutarate\n",
      "ALPHA-LINOLENIC ACID https://www.webmd.com/vitamins/ai/ingredientmono-1035/alpha-linolenic-acid\n",
      "ALPHA-LIPOIC ACID https://www.webmd.com/vitamins/ai/ingredientmono-767/alpha-lipoic-acid\n",
      "ALPINE LADY'S MANTLE https://www.webmd.com/vitamins/ai/ingredientmono-54/alpine-ladys-mantle\n",
      "ALPINE RAGWORT https://www.webmd.com/vitamins/ai/ingredientmono-581/alpine-ragwort\n",
      "ALPINIA https://www.webmd.com/vitamins/ai/ingredientmono-276/alpinia\n",
      "AMARANTH https://www.webmd.com/vitamins/ai/ingredientmono-869/amaranth\n",
      "AMBRETTE https://www.webmd.com/vitamins/ai/ingredientmono-14/ambrette\n",
      "AMERICAN ADDER'S TONGUE https://www.webmd.com/vitamins/ai/ingredientmono-272/american-adders-tongue\n",
      "AMERICAN BITTERSWEET https://www.webmd.com/vitamins/ai/ingredientmono-273/american-bittersweet\n",
      "AMERICAN CHESTNUT https://www.webmd.com/vitamins/ai/ingredientmono-274/american-chestnut\n",
      "AMERICAN DOGWOOD https://www.webmd.com/vitamins/ai/ingredientmono-523/american-dogwood\n",
      "AMERICAN ELDER https://www.webmd.com/vitamins/ai/ingredientmono-942/american-elder\n",
      "AMERICAN GINSENG https://www.webmd.com/vitamins/ai/ingredientmono-967/american-ginseng\n",
      "AMERICAN HELLEBORE https://www.webmd.com/vitamins/ai/ingredientmono-822/american-hellebore\n",
      "AMERICAN IVY https://www.webmd.com/vitamins/ai/ingredientmono-277/american-ivy\n",
      "AMERICAN MISTLETOE https://www.webmd.com/vitamins/ai/ingredientmono-297/american-mistletoe\n",
      "AMERICAN PAWPAW https://www.webmd.com/vitamins/ai/ingredientmono-278/american-pawpaw\n",
      "AMERICAN SPIKENARD https://www.webmd.com/vitamins/ai/ingredientmono-366/american-spikenard\n",
      "AMERICAN WHITE WATER LILY https://www.webmd.com/vitamins/ai/ingredientmono-279/american-white-water-lily\n",
      "ANDIROBA https://www.webmd.com/vitamins/ai/ingredientmono-611/andiroba\n",
      "ANDRACHNE https://www.webmd.com/vitamins/ai/ingredientmono-280/andrachne\n",
      "ANDROGRAPHIS https://www.webmd.com/vitamins/ai/ingredientmono-973/andrographis\n",
      "ANDROSTENEDIOL https://www.webmd.com/vitamins/ai/ingredientmono-595/androstenediol\n",
      "ANDROSTENEDIONE https://www.webmd.com/vitamins/ai/ingredientmono-780/androstenedione\n",
      "ANDROSTENETRIONE https://www.webmd.com/vitamins/ai/ingredientmono-1091/androstenetrione\n",
      "ANGELICA https://www.webmd.com/vitamins/ai/ingredientmono-281/angelica\n",
      "ANGEL'S TRUMPET https://www.webmd.com/vitamins/ai/ingredientmono-840/angels-trumpet\n",
      "ANGOSTURA https://www.webmd.com/vitamins/ai/ingredientmono-728/angostura\n",
      "ANHYDROUS CRYSTALLINE MALTOSE https://www.webmd.com/vitamins/ai/ingredientmono-1452/anhydrous-crystalline-maltose\n",
      "ANISE https://www.webmd.com/vitamins/ai/ingredientmono-582/anise\n",
      "ANNATTO https://www.webmd.com/vitamins/ai/ingredientmono-23/annatto\n",
      "ANTINEOPLASTONS https://www.webmd.com/vitamins/ai/ingredientmono-1460/antineoplastons\n",
      "APOAEQUORIN https://www.webmd.com/vitamins/ai/ingredientmono-1486/apoaequorin\n",
      "APPLE https://www.webmd.com/vitamins/ai/ingredientmono-298/apple\n",
      "APPLE CIDER VINEGAR https://www.webmd.com/vitamins/ai/ingredientmono-816/apple-cider-vinegar\n",
      "APRICOT https://www.webmd.com/vitamins/ai/ingredientmono-952/apricot\n",
      "APRICOT KERNEL https://www.webmd.com/vitamins/ai/ingredientmono-1190/apricot-kernel\n",
      "ARABINOXYLAN https://www.webmd.com/vitamins/ai/ingredientmono-1455/arabinoxylan\n",
      "ARENARIA RUBRA https://www.webmd.com/vitamins/ai/ingredientmono-584/arenaria-rubra\n",
      "ARISTOLOCHIA https://www.webmd.com/vitamins/ai/ingredientmono-583/aristolochia\n",
      "ARNICA https://www.webmd.com/vitamins/ai/ingredientmono-721/arnica\n",
      "ARRACH https://www.webmd.com/vitamins/ai/ingredientmono-31/arrach\n",
      "ARROWROOT https://www.webmd.com/vitamins/ai/ingredientmono-283/arrowroot\n",
      "ARSENIC https://www.webmd.com/vitamins/ai/ingredientmono-1226/arsenic\n",
      "ARTEMISIA HERBA-ALBA https://www.webmd.com/vitamins/ai/ingredientmono-1156/artemisia-herba-alba\n",
      "ARTICHOKE https://www.webmd.com/vitamins/ai/ingredientmono-842/artichoke\n",
      "ARUM https://www.webmd.com/vitamins/ai/ingredientmono-209/arum\n",
      "ASAFOETIDA https://www.webmd.com/vitamins/ai/ingredientmono-248/asafoetida\n",
      "ASARUM https://www.webmd.com/vitamins/ai/ingredientmono-861/asarum\n",
      "ASCORBIGEN https://www.webmd.com/vitamins/ai/ingredientmono-1168/ascorbigen\n",
      "ASH https://www.webmd.com/vitamins/ai/ingredientmono-285/ash\n",
      "ASHITABA https://www.webmd.com/vitamins/ai/ingredientmono-1134/ashitaba\n",
      "ASHWAGANDHA https://www.webmd.com/vitamins/ai/ingredientmono-953/ashwagandha\n",
      "ASIAN WATER PLANTAIN https://www.webmd.com/vitamins/ai/ingredientmono-347/asian-water-plantain\n",
      "ASPARAGUS https://www.webmd.com/vitamins/ai/ingredientmono-286/asparagus\n",
      "ASPARAGUS RACEMOSUS https://www.webmd.com/vitamins/ai/ingredientmono-1167/asparagus-racemosus\n",
      "ASPARTIC ACID https://www.webmd.com/vitamins/ai/ingredientmono-12/aspartic-acid\n",
      "ASPEN https://www.webmd.com/vitamins/ai/ingredientmono-244/aspen\n",
      "ASTAXANTHIN https://www.webmd.com/vitamins/ai/ingredientmono-1063/astaxanthin\n",
      "ASTRAGALUS https://www.webmd.com/vitamins/ai/ingredientmono-963/astragalus\n",
      "ATLANTIC CEDAR https://www.webmd.com/vitamins/ai/ingredientmono-1119/atlantic-cedar\n",
      "ATRACTYLODES https://www.webmd.com/vitamins/ai/ingredientmono-1097/atractylodes\n",
      "AUTUMN CROCUS https://www.webmd.com/vitamins/ai/ingredientmono-282/autumn-crocus\n",
      "AVENS https://www.webmd.com/vitamins/ai/ingredientmono-302/avens\n",
      "AVOCADO https://www.webmd.com/vitamins/ai/ingredientmono-890/avocado\n",
      "AVOCADO SUGAR EXTRACT https://www.webmd.com/vitamins/ai/ingredientmono-1146/avocado-sugar-extract\n",
      "AYAHUASCA https://www.webmd.com/vitamins-supplements/ingredientmono-1550-AYAHUASCA.aspx?activeIngredientId=1550&activeIngredientName=AYAHUASCA&source=0\n"
     ]
    }
   ],
   "source": [
    "soup = BeautifulSoup(html_doc, 'html.parser')\n",
    "scope = soup.select_one(\".vitamins-list\")\n",
    "anchors = scope.find_all('a')\n",
    "for anchor in anchors:\n",
    "    name = anchor.string\n",
    "    href = anchor['href']\n",
    "    \n",
    "    print(name, href)"
   ]
  }
 ],
 "metadata": {
  "kernelspec": {
   "display_name": "Python 3",
   "language": "python",
   "name": "python3"
  },
  "language_info": {
   "codemirror_mode": {
    "name": "ipython",
    "version": 3
   },
   "file_extension": ".py",
   "mimetype": "text/x-python",
   "name": "python",
   "nbconvert_exporter": "python",
   "pygments_lexer": "ipython3",
   "version": "3.6.3"
  }
 },
 "nbformat": 4,
 "nbformat_minor": 2
}
