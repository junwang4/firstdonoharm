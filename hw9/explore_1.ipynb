{
 "cells": [
  {
   "cell_type": "markdown",
   "metadata": {},
   "source": [
    "## Linear Regression"
   ]
  },
  {
   "cell_type": "code",
   "execution_count": null,
   "metadata": {},
   "outputs": [],
   "source": [
    "import numpy as np\n",
    "from sklearn import datasets\n",
    "\n",
    "#np.set_printoptions(precision=2)\n",
    "\n",
    "N = 10\n",
    "X, y = datasets.make_regression(n_samples=N, n_features=1, n_targets=1, noise=20, random_state=0)\n",
    "print('X=', X)\n",
    "print('X.shape=', X.shape)\n",
    "print('y=', y)"
   ]
  },
  {
   "cell_type": "markdown",
   "metadata": {},
   "source": [
    "### scatter plot"
   ]
  },
  {
   "cell_type": "code",
   "execution_count": null,
   "metadata": {},
   "outputs": [],
   "source": [
    "%matplotlib inline\n",
    "import matplotlib.pyplot as plt\n",
    "\n",
    "plt.scatter(X, y)\n",
    "plt.xlabel('x', fontsize=16)\n",
    "plt.ylabel('y', fontsize=16)"
   ]
  },
  {
   "cell_type": "markdown",
   "metadata": {},
   "source": [
    "### construct training and test datasets"
   ]
  },
  {
   "cell_type": "code",
   "execution_count": null,
   "metadata": {},
   "outputs": [],
   "source": [
    "N = 50\n",
    "X, y = datasets.make_regression(n_samples=N, n_features=1, n_targets=1, noise=10, random_state=0)\n",
    "\n",
    "\n",
    "plt.figure(figsize=(15, 3))\n",
    "\n",
    "plt.subplot(1, 3, 1)\n",
    "plt.scatter(X, y)\n",
    "plt.title('Whole data')\n",
    "\n",
    "train_size = int(N*.9)\n",
    "\n",
    "# construct training data // split the first slice\n",
    "X_tr = X[:train_size]\n",
    "y_tr = y[:train_size]\n",
    "\n",
    "# construct testing data // using the remaining slice\n",
    "X_te = X[train_size:]\n",
    "y_te = y[train_size:]\n",
    "\n",
    "plt.subplot(1, 3, 2)\n",
    "plt.scatter(X_tr, y_tr)\n",
    "plt.title('Training data')\n",
    "\n",
    "plt.subplot(1, 3, 3)\n",
    "plt.scatter(X_te, y_te)\n",
    "plt.title('Test data')\n",
    "\n",
    "if 1:\n",
    "    plt.scatter(X_tr, y_tr, c='lightgray')\n",
    "\n",
    "if 0:\n",
    "    x_max = X.max()\n",
    "    x_min = X.min()\n",
    "    y_max = y.max()\n",
    "    y_min = y.min()\n",
    "\n",
    "    plt.xlim([x_min, x_max])\n",
    "    plt.ylim([y_min, y_max])\n",
    "\n"
   ]
  },
  {
   "cell_type": "markdown",
   "metadata": {},
   "source": [
    "### fit the training data to a linear model"
   ]
  },
  {
   "cell_type": "code",
   "execution_count": null,
   "metadata": {},
   "outputs": [],
   "source": [
    "from sklearn.linear_model import LinearRegression\n",
    "\n",
    "model = LinearRegression()\n",
    "model.fit(X_tr, y_tr)\n"
   ]
  },
  {
   "cell_type": "code",
   "execution_count": null,
   "metadata": {},
   "outputs": [],
   "source": [
    "print(model.coef_)\n",
    "print(model.intercept_)"
   ]
  },
  {
   "cell_type": "code",
   "execution_count": null,
   "metadata": {},
   "outputs": [],
   "source": [
    "plt.scatter(X_tr, y_tr)\n",
    "\n",
    "plt.plot(X, X*model.coef_ + model.intercept_, '--', c='red')\n"
   ]
  },
  {
   "cell_type": "markdown",
   "metadata": {},
   "source": [
    "### make predictions using the above model"
   ]
  },
  {
   "cell_type": "code",
   "execution_count": null,
   "metadata": {},
   "outputs": [],
   "source": [
    "y_pred = model.predict(X_te)\n",
    "\n",
    "print('y_pred =  ', y_pred)\n",
    "print('y_acutal =', y_te)"
   ]
  },
  {
   "cell_type": "markdown",
   "metadata": {},
   "source": [
    "### plot prediction vs. actual value"
   ]
  },
  {
   "cell_type": "code",
   "execution_count": null,
   "metadata": {},
   "outputs": [],
   "source": [
    "plt.figure(figsize=(15, 3))\n",
    "\n",
    "plt.subplot(1, 3, 1)\n",
    "plt.scatter(X_tr, y_tr, c='lightgray')\n",
    "plt.scatter(X_te, y_te)\n",
    "plt.title('Test data')\n",
    "\n",
    "\n",
    "plt.subplot(1, 3, 2)\n",
    "plt.scatter(X_tr, y_tr, c='lightgray')\n",
    "\n",
    "plt.scatter(X_te, y_te)\n",
    "\n",
    "plt.scatter(X_te, y_pred, c='red')\n",
    "\n",
    "plt.title('Prediction')\n",
    "\n",
    "\n",
    "plt.subplot(1, 3, 3)\n",
    "plt.scatter(X_tr, y_tr, c='lightgray')\n",
    "\n",
    "plt.scatter(X_te, y_te, s=[200]*len(y_te), alpha=0.5)\n",
    "\n",
    "plt.scatter(X_te, y_pred, c='red')\n",
    "# plt.scatter(X_te, y_pred, marker='.', c='red')\n",
    "\n",
    "plt.title('Prediction')\n",
    "\n"
   ]
  },
  {
   "cell_type": "code",
   "execution_count": null,
   "metadata": {
    "collapsed": true
   },
   "outputs": [],
   "source": []
  },
  {
   "cell_type": "markdown",
   "metadata": {},
   "source": [
    "## Classification"
   ]
  },
  {
   "cell_type": "code",
   "execution_count": null,
   "metadata": {},
   "outputs": [],
   "source": [
    "import matplotlib.pyplot as plt\n",
    "\n",
    "loaded_data = datasets.load_iris()\n",
    "X = loaded_data.data\n",
    "y = loaded_data.target\n",
    "\n",
    "print('First 10 data points of X =\\n', X[:10,:])\n",
    "print('y =', y)"
   ]
  },
  {
   "cell_type": "code",
   "execution_count": null,
   "metadata": {},
   "outputs": [],
   "source": [
    "plt.scatter(X[:,0], X[:,2], c=y)\n",
    "X = X[:, [0, 2]]\n",
    "X.shape"
   ]
  },
  {
   "cell_type": "markdown",
   "metadata": {},
   "source": [
    "### Gaussian Naive Bayes model"
   ]
  },
  {
   "cell_type": "code",
   "execution_count": null,
   "metadata": {
    "collapsed": true
   },
   "outputs": [],
   "source": [
    "from sklearn.naive_bayes import GaussianNB\n",
    "from sklearn.model_selection import train_test_split"
   ]
  },
  {
   "cell_type": "code",
   "execution_count": null,
   "metadata": {},
   "outputs": [],
   "source": [
    "X_tr, X_te, y_tr, y_te = train_test_split(X, y, test_size=0.1, random_state=0)\n",
    "\n",
    "print(X_tr.shape)\n",
    "print(X_te.shape)\n",
    "\n",
    "model = GaussianNB()\n",
    "\n",
    "model.fit(X_tr, y_tr)\n",
    "\n",
    "y_pred = model.predict(X_te)\n",
    "\n",
    "print(y_pred)\n",
    "print(y_te)\n",
    "\n",
    "plt.figure(figsize=(18, 5))\n",
    "\n",
    "plt.subplot(1, 2, 1)\n",
    "\n",
    "plt.scatter(X_tr[:,0], X_tr[:,1], c=y_tr, s=[10]*len(y_tr))\n",
    "plt.scatter(X_te[:,0], X_te[:,1], c=y_te, marker='o', s=[250]*len(y_te), alpha=0.2)\n",
    "\n",
    "plt.subplot(1, 2, 2)\n",
    "plt.scatter(X_tr[:,0], X_tr[:,1], c=y_tr, s=[10]*len(y_tr))\n",
    "plt.scatter(X_te[:,0], X_te[:,1], c=y_te, marker='o', s=[250]*len(y_te), alpha=0.2)\n",
    "plt.scatter(X_te[:,0], X_te[:,1], c=y_pred, marker='*',  s=[100]*len(y_te))\n"
   ]
  },
  {
   "cell_type": "markdown",
   "metadata": {},
   "source": [
    "### Support Vector Model"
   ]
  },
  {
   "cell_type": "code",
   "execution_count": null,
   "metadata": {
    "collapsed": true
   },
   "outputs": [],
   "source": [
    "from sklearn.svm import SVC"
   ]
  },
  {
   "cell_type": "code",
   "execution_count": null,
   "metadata": {
    "scrolled": true
   },
   "outputs": [],
   "source": [
    "X_tr, X_te, y_tr, y_te = train_test_split(X, y, test_size=0.1, random_state=0)\n",
    "\n",
    "print(X_tr.shape)\n",
    "print(X_te.shape)\n",
    "\n",
    "model = SVC()\n",
    "\n",
    "model.fit(X_tr, y_tr)\n",
    "\n",
    "y_pred = model.predict(X_te)\n",
    "\n",
    "print(y_pred)\n",
    "print(y_te)\n",
    "\n",
    "plt.figure(figsize=(18, 5))\n",
    "\n",
    "plt.subplot(1, 2, 1)\n",
    "\n",
    "plt.scatter(X_tr[:,0], X_tr[:,1], c=y_tr, s=[10]*len(y_tr))\n",
    "plt.scatter(X_te[:,0], X_te[:,1], c=y_te, marker='o', s=[250]*len(y_te), alpha=0.2)\n",
    "\n",
    "plt.subplot(1, 2, 2)\n",
    "plt.scatter(X_tr[:,0], X_tr[:,1], c=y_tr, s=[10]*len(y_tr))\n",
    "plt.scatter(X_te[:,0], X_te[:,1], c=y_te, marker='o', s=[250]*len(y_te), alpha=0.2)\n",
    "plt.scatter(X_te[:,0], X_te[:,1], c=y_pred, marker='*',  s=[100]*len(y_te))"
   ]
  },
  {
   "cell_type": "code",
   "execution_count": null,
   "metadata": {
    "collapsed": true
   },
   "outputs": [],
   "source": []
  },
  {
   "cell_type": "markdown",
   "metadata": {},
   "source": [
    "## Text Classification"
   ]
  },
  {
   "cell_type": "code",
   "execution_count": null,
   "metadata": {},
   "outputs": [],
   "source": [
    "import pandas as pd\n",
    "pd.options.display.max_colwidth = 500\n",
    "\n",
    "neg = open('rt-polarity.neg', encoding='latin-1').readlines()\n",
    "pos = open('rt-polarity.pos', encoding='latin-1').readlines()\n",
    "data = {'text': neg + pos, 'label': [0]*len(neg) + [1]*len(pos)}\n",
    "df = pd.DataFrame(data)\n",
    "df.head()"
   ]
  },
  {
   "cell_type": "code",
   "execution_count": null,
   "metadata": {},
   "outputs": [],
   "source": [
    "df.label.value_counts()"
   ]
  },
  {
   "cell_type": "code",
   "execution_count": null,
   "metadata": {
    "scrolled": true
   },
   "outputs": [],
   "source": [
    "df['text'] = df['text'].apply(lambda x: x.strip())\n",
    "df.head()"
   ]
  },
  {
   "cell_type": "code",
   "execution_count": null,
   "metadata": {
    "scrolled": false
   },
   "outputs": [],
   "source": [
    "df = df.sample(frac=1, random_state=0)\n",
    "df.head()"
   ]
  },
  {
   "cell_type": "code",
   "execution_count": null,
   "metadata": {
    "scrolled": false
   },
   "outputs": [],
   "source": [
    "train_size = 1000\n",
    "df_tr = df[:train_size]\n",
    "df_te = df[train_size:]\n",
    "\n",
    "print(df_tr.label.value_counts())\n",
    "print(df_te.label.value_counts())"
   ]
  },
  {
   "cell_type": "code",
   "execution_count": null,
   "metadata": {},
   "outputs": [],
   "source": [
    "from sklearn.feature_extraction.text import CountVectorizer\n",
    "count_vect = CountVectorizer(min_df=15, token_pattern='[^ ]+')\n",
    "X_tr = count_vect.fit_transform(df_tr.text)\n",
    "X_tr.shape"
   ]
  },
  {
   "cell_type": "code",
   "execution_count": null,
   "metadata": {},
   "outputs": [],
   "source": [
    "count_vect.vocabulary_"
   ]
  },
  {
   "cell_type": "code",
   "execution_count": null,
   "metadata": {
    "scrolled": true
   },
   "outputs": [],
   "source": [
    "X_tr.toarray()[:2, :]"
   ]
  },
  {
   "cell_type": "code",
   "execution_count": null,
   "metadata": {},
   "outputs": [],
   "source": [
    "df_tr[:3]"
   ]
  },
  {
   "cell_type": "code",
   "execution_count": null,
   "metadata": {},
   "outputs": [],
   "source": [
    "X_te = count_vect.transform(df_te.text)\n",
    "X_te.shape"
   ]
  },
  {
   "cell_type": "code",
   "execution_count": null,
   "metadata": {},
   "outputs": [],
   "source": [
    "from sklearn.svm import LinearSVC\n",
    "model = LinearSVC()\n",
    "model.fit(X_tr, df_tr.label)"
   ]
  },
  {
   "cell_type": "code",
   "execution_count": null,
   "metadata": {},
   "outputs": [],
   "source": [
    "y_pred = model.predict(X_te)"
   ]
  },
  {
   "cell_type": "code",
   "execution_count": null,
   "metadata": {},
   "outputs": [],
   "source": [
    "y_pred[:10]"
   ]
  },
  {
   "cell_type": "code",
   "execution_count": null,
   "metadata": {},
   "outputs": [],
   "source": [
    "df_te.label[:10]"
   ]
  },
  {
   "cell_type": "code",
   "execution_count": null,
   "metadata": {},
   "outputs": [],
   "source": [
    "import numpy as np\n",
    "np.mean(y_pred == df_te.label)"
   ]
  }
 ],
 "metadata": {
  "kernelspec": {
   "display_name": "Python 3",
   "language": "python",
   "name": "python3"
  },
  "language_info": {
   "codemirror_mode": {
    "name": "ipython",
    "version": 3
   },
   "file_extension": ".py",
   "mimetype": "text/x-python",
   "name": "python",
   "nbconvert_exporter": "python",
   "pygments_lexer": "ipython3",
   "version": "3.6.3"
  }
 },
 "nbformat": 4,
 "nbformat_minor": 2
}
