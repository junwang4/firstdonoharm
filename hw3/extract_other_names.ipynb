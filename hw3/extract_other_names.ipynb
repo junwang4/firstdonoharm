{
 "cells": [
  {
   "cell_type": "markdown",
   "metadata": {},
   "source": [
    "## Purpose: Extract OTHER NAMES of an ingredient from their HTML file\n",
    "\n",
    "The ingredients given in an Amazon product page could take a variety of names. For example, \"aconite\" could take such  names as \"caowu\", \"cao wu\", \"fu zi\", etc. So we need build a dictionary for those alternative names."
   ]
  },
  {
   "cell_type": "markdown",
   "metadata": {},
   "source": [
    "### SETUP. Manually download the following two HTML files to folder \"hw3/detail_pages\"\n",
    "\n",
    "name them as \"abscess-root.html\" and \"aconite.html\"\n",
    "\n",
    "- ABSCESS ROOT https://www.webmd.com/vitamins/ai/ingredientmono-266/abscess-root\n",
    "- ACONITE https://www.webmd.com/vitamins/ai/ingredientmono-609/aconite"
   ]
  },
  {
   "cell_type": "code",
   "execution_count": 1,
   "metadata": {
    "collapsed": true
   },
   "outputs": [],
   "source": [
    "import os\n",
    "from bs4 import BeautifulSoup"
   ]
  },
  {
   "cell_type": "code",
   "execution_count": 2,
   "metadata": {},
   "outputs": [
    {
     "name": "stdout",
     "output_type": "stream",
     "text": [
      "file exists: ./detail_pages/abscess-root.html\n"
     ]
    }
   ],
   "source": [
    "html_folder = \"./detail_pages\"\n",
    "\n",
    "ingredient_name = \"abscess-root\"\n",
    "\n",
    "filepath = f\"{html_folder}/{ingredient_name}.html\"\n",
    "\n",
    "if os.path.exists(filepath):\n",
    "    print('file exists:', filepath)\n",
    "else:\n",
    "    print('- error: file not exists: ', filepath)"
   ]
  },
  {
   "cell_type": "code",
   "execution_count": 3,
   "metadata": {},
   "outputs": [
    {
     "data": {
      "text/plain": [
       "<div class=\"other-names\"><span class=\"tag\">OTHER NAME(S): </span><p>American Greek Valerian, Blue Bells, False Jacob's Ladder, Polémoine Rampante, Polémonie Rampante, Polemonium reptans, Sweatroot, Valeriana Griega.&lt;br/&gt;&lt;br/&gt;</p>\n",
       "</div>"
      ]
     },
     "execution_count": 3,
     "metadata": {},
     "output_type": "execute_result"
    }
   ],
   "source": [
    "html_doc = open(filepath).read()\n",
    "soup = BeautifulSoup(html_doc, 'html.parser')\n",
    "\n",
    "scope = soup.select_one(\".other-names\")\n",
    "scope"
   ]
  },
  {
   "cell_type": "code",
   "execution_count": 4,
   "metadata": {},
   "outputs": [
    {
     "data": {
      "text/plain": [
       "<p>American Greek Valerian, Blue Bells, False Jacob's Ladder, Polémoine Rampante, Polémonie Rampante, Polemonium reptans, Sweatroot, Valeriana Griega.&lt;br/&gt;&lt;br/&gt;</p>"
      ]
     },
     "execution_count": 4,
     "metadata": {},
     "output_type": "execute_result"
    }
   ],
   "source": [
    "p_other_names = scope.find('p')\n",
    "p_other_names"
   ]
  },
  {
   "cell_type": "code",
   "execution_count": 5,
   "metadata": {},
   "outputs": [
    {
     "data": {
      "text/plain": [
       "\"American Greek Valerian, Blue Bells, False Jacob's Ladder, Polémoine Rampante, Polémonie Rampante, Polemonium reptans, Sweatroot, Valeriana Griega.<br/><br/>\""
      ]
     },
     "execution_count": 5,
     "metadata": {},
     "output_type": "execute_result"
    }
   ],
   "source": [
    "other_names_str = p_other_names.string\n",
    "other_names_str"
   ]
  },
  {
   "cell_type": "code",
   "execution_count": 6,
   "metadata": {},
   "outputs": [
    {
     "data": {
      "text/plain": [
       "\"American Greek Valerian, Blue Bells, False Jacob's Ladder, Polémoine Rampante, Polémonie Rampante, Polemonium reptans, Sweatroot, Valeriana Griega\""
      ]
     },
     "execution_count": 6,
     "metadata": {},
     "output_type": "execute_result"
    }
   ],
   "source": [
    "other_names_str = other_names_str.replace('.<br/><br/>', '')\n",
    "other_names_str"
   ]
  },
  {
   "cell_type": "code",
   "execution_count": 7,
   "metadata": {},
   "outputs": [
    {
     "data": {
      "text/plain": [
       "\"American Greek Valerian, Blue Bells, False Jacob's Ladder, Polemoine Rampante, Polemonie Rampante, Polemonium reptans, Sweatroot, Valeriana Griega\""
      ]
     },
     "execution_count": 7,
     "metadata": {},
     "output_type": "execute_result"
    }
   ],
   "source": [
    "import unidecode\n",
    "\n",
    "other_names_str = unidecode.unidecode(other_names_str)\n",
    "other_names_str"
   ]
  },
  {
   "cell_type": "code",
   "execution_count": 8,
   "metadata": {},
   "outputs": [
    {
     "data": {
      "text/plain": [
       "['American Greek Valerian',\n",
       " ' Blue Bells',\n",
       " \" False Jacob's Ladder\",\n",
       " ' Polemoine Rampante',\n",
       " ' Polemonie Rampante',\n",
       " ' Polemonium reptans',\n",
       " ' Sweatroot',\n",
       " ' Valeriana Griega']"
      ]
     },
     "execution_count": 8,
     "metadata": {},
     "output_type": "execute_result"
    }
   ],
   "source": [
    "other_names_list = other_names_str.split(',')\n",
    "other_names_list"
   ]
  },
  {
   "cell_type": "code",
   "execution_count": 9,
   "metadata": {
    "collapsed": true
   },
   "outputs": [],
   "source": [
    "item = {'ingredient':ingredient_name, 'other_names':other_names_str}"
   ]
  },
  {
   "cell_type": "code",
   "execution_count": 10,
   "metadata": {},
   "outputs": [
    {
     "name": "stdout",
     "output_type": "stream",
     "text": [
      "{'ingredient': 'abscess-root',\n",
      " 'other_names': \"American Greek Valerian, Blue Bells, False Jacob's Ladder, \"\n",
      "                'Polemoine Rampante, Polemonie Rampante, Polemonium reptans, '\n",
      "                'Sweatroot, Valeriana Griega'}\n"
     ]
    }
   ],
   "source": [
    "import pprint\n",
    "pprint.pprint(item)"
   ]
  }
 ],
 "metadata": {
  "kernelspec": {
   "display_name": "Python 3",
   "language": "python",
   "name": "python3"
  },
  "language_info": {
   "codemirror_mode": {
    "name": "ipython",
    "version": 3
   },
   "file_extension": ".py",
   "mimetype": "text/x-python",
   "name": "python",
   "nbconvert_exporter": "python",
   "pygments_lexer": "ipython3",
   "version": "3.6.3"
  }
 },
 "nbformat": 4,
 "nbformat_minor": 2
}
