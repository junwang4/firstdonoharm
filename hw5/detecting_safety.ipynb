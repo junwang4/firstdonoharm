{
 "cells": [
  {
   "cell_type": "markdown",
   "metadata": {},
   "source": [
    "## Part I: find those ingredients that are UNSAFE when taken by mouth"
   ]
  },
  {
   "cell_type": "code",
   "execution_count": null,
   "metadata": {
    "collapsed": true
   },
   "outputs": [],
   "source": [
    "import pandas as pd"
   ]
  },
  {
   "cell_type": "code",
   "execution_count": null,
   "metadata": {
    "scrolled": true
   },
   "outputs": [],
   "source": [
    "# I have already extracted the first one or two sentences in the section of side effects\n",
    "# I will show you later how to do the extraction, which is a bit complicated now\n",
    "# Our purpose here is to continue to practice on PANDAS\n",
    "\n",
    "fpath = f'ingredient_side_effects_first_sentences.csv'\n",
    "df = pd.read_csv(fpath)\n",
    "print(df.columns)\n",
    "df.head()"
   ]
  },
  {
   "cell_type": "code",
   "execution_count": null,
   "metadata": {},
   "outputs": [],
   "source": [
    "pd.options.display.max_colwidth"
   ]
  },
  {
   "cell_type": "code",
   "execution_count": null,
   "metadata": {
    "collapsed": true
   },
   "outputs": [],
   "source": [
    "pd.options.display.max_colwidth = 500"
   ]
  },
  {
   "cell_type": "code",
   "execution_count": null,
   "metadata": {},
   "outputs": [],
   "source": [
    "df[5:10]"
   ]
  },
  {
   "cell_type": "code",
   "execution_count": null,
   "metadata": {},
   "outputs": [],
   "source": [
    "# Let's play how to create some new features for the table \"df\"\n",
    "# For example, a feature called \"num_words\"\n",
    "\n",
    "df['num_words'] = 10\n",
    "df.head()"
   ]
  },
  {
   "cell_type": "code",
   "execution_count": null,
   "metadata": {},
   "outputs": [],
   "source": [
    "df.iloc[0]"
   ]
  },
  {
   "cell_type": "code",
   "execution_count": null,
   "metadata": {},
   "outputs": [],
   "source": [
    "df.iloc[0].first_sentences"
   ]
  },
  {
   "cell_type": "code",
   "execution_count": null,
   "metadata": {},
   "outputs": [],
   "source": [
    "s = df.iloc[0].first_sentences\n",
    "s.split()"
   ]
  },
  {
   "cell_type": "code",
   "execution_count": null,
   "metadata": {},
   "outputs": [],
   "source": [
    "len(s.split())"
   ]
  },
  {
   "cell_type": "code",
   "execution_count": null,
   "metadata": {
    "collapsed": true
   },
   "outputs": [],
   "source": [
    "def get_num_of_words(s):\n",
    "    return len(s.split())"
   ]
  },
  {
   "cell_type": "code",
   "execution_count": null,
   "metadata": {},
   "outputs": [],
   "source": [
    "df['num_words'] = df.first_sentences.apply(get_num_of_words)\n",
    "df.head()"
   ]
  },
  {
   "cell_type": "markdown",
   "metadata": {},
   "source": [
    "### create a new feature: has word \"unsafe\" or not in the first sentences"
   ]
  },
  {
   "cell_type": "code",
   "execution_count": null,
   "metadata": {},
   "outputs": [],
   "source": [
    "def has_word_unsafe(s):\n",
    "    return s.lower().find('unsafe')>=0\n",
    "\n",
    "df['has_unsafe'] = df.first_sentences.apply(has_word_unsafe)\n",
    "df[5:10]"
   ]
  },
  {
   "cell_type": "markdown",
   "metadata": {},
   "source": [
    "The above two functions  \n",
    "- get_num_of_words \n",
    "and \n",
    "- has_word_unsafe\n",
    "are just one-line functions\n",
    "\n",
    "In python, we can use \"lambda\" as a quick way to define such one-line functions."
   ]
  },
  {
   "cell_type": "code",
   "execution_count": null,
   "metadata": {},
   "outputs": [],
   "source": [
    "df['has_unsafe'] = df.first_sentences.apply(lambda x: x.lower().find('unsafe')>=0)\n",
    "df[5:10]"
   ]
  },
  {
   "cell_type": "code",
   "execution_count": null,
   "metadata": {},
   "outputs": [],
   "source": [
    "df['has_likely'] = df.first_sentences.apply(lambda x: x.lower().find('likely')>=0)\n",
    "df[:10]"
   ]
  },
  {
   "cell_type": "code",
   "execution_count": null,
   "metadata": {},
   "outputs": [],
   "source": [
    "df['has_possibly'] = df.first_sentences.apply(lambda x: x.lower().find('possibly')>=0)\n",
    "df[:10]"
   ]
  },
  {
   "cell_type": "code",
   "execution_count": null,
   "metadata": {},
   "outputs": [],
   "source": [
    "df.has_unsafe & (~df.has_likely) & ~df.has_possibly"
   ]
  },
  {
   "cell_type": "code",
   "execution_count": null,
   "metadata": {},
   "outputs": [],
   "source": [
    "condition = df.has_unsafe & (~df.has_likely) & ~df.has_possibly\n",
    "dff = df[condition].copy()\n",
    "print(dff.shape)\n",
    "dff"
   ]
  },
  {
   "cell_type": "code",
   "execution_count": null,
   "metadata": {},
   "outputs": [],
   "source": [
    "dff['has_might'] = dff.first_sentences.apply(lambda x: x.lower().find('might')>=0)\n",
    "print(dff[dff.has_might].shape)\n",
    "dff[dff.has_might]"
   ]
  },
  {
   "cell_type": "code",
   "execution_count": null,
   "metadata": {},
   "outputs": [],
   "source": [
    "dff['has_mouth'] = dff.first_sentences.apply(lambda x: x.lower().find('mouth')>=0)\n",
    "print(dff[dff.has_mouth].shape)\n",
    "dff[dff.has_mouth]"
   ]
  },
  {
   "cell_type": "code",
   "execution_count": null,
   "metadata": {},
   "outputs": [],
   "source": [
    "df_unsafe = dff[dff.has_mouth & ~dff.has_might]\n",
    "print(df_unsafe.shape)\n",
    "df_unsafe"
   ]
  },
  {
   "cell_type": "markdown",
   "metadata": {},
   "source": [
    "## Part II: generate a html page, with links to WebMD, for those UNSAFE ingredients\n",
    "\n",
    "Right now we only focus on these 37 UNSAFE ingredients (when taken by mouth). \n",
    "\n",
    "For others that are LIKELY/POSSIBLY UNSAFE, or UNSAFE when injected, we leave it for future."
   ]
  },
  {
   "cell_type": "code",
   "execution_count": null,
   "metadata": {},
   "outputs": [],
   "source": [
    "# get the WebMD href for all ingredients\n",
    "df_href = pd.read_csv('ingredient_id_name_url.csv')\n",
    "print(df_href.shape)\n",
    "df_href.head()"
   ]
  },
  {
   "cell_type": "code",
   "execution_count": null,
   "metadata": {},
   "outputs": [],
   "source": [
    "df_unsafe.head()"
   ]
  },
  {
   "cell_type": "code",
   "execution_count": null,
   "metadata": {},
   "outputs": [],
   "source": [
    "# merge the df_href with df_unsafe\n",
    "\n",
    "df_final = pd.merge(df_unsafe, df_href, left_on='ingredient', right_on='id')\n",
    "print(df_final.shape)\n",
    "df_final.head()"
   ]
  },
  {
   "cell_type": "code",
   "execution_count": null,
   "metadata": {},
   "outputs": [],
   "source": [
    "# create HTML page from df_final\n",
    "\n",
    "out = \"<table>\"\n",
    "for ingredient, first_sentences, href in zip(df_final.ingredient, df_final.first_sentences, df_final.href):\n",
    "    row = f\"<tr> <td> <a href=\\\"{href}\\\">{ingredient}</a></td> <td>{first_sentences}</tr>\"\n",
    "    out += row\n",
    "    \n",
    "html_outfile = '/tmp/a.html'\n",
    "open(html_outfile, 'w').write(out)\n",
    "html_outfile"
   ]
  },
  {
   "cell_type": "code",
   "execution_count": null,
   "metadata": {},
   "outputs": [],
   "source": [
    "# add some attributes to <td>\n",
    "# add one attribute to <a>\n",
    "\n",
    "out = \"<table>\"\n",
    "for ingredient, first_sentences, href in zip(df_final.ingredient, df_final.first_sentences, df_final.href):\n",
    "    row = f\"<tr><td align=right valign=top><a target=_blank href=\\\"{href}\\\">{ingredient}</a><td>{first_sentences}</tr>\"\n",
    "    out += row\n",
    "    \n",
    "html_outfile = '/tmp/a.html'\n",
    "open(html_outfile, 'w').write(out)\n",
    "html_outfile"
   ]
  },
  {
   "cell_type": "code",
   "execution_count": null,
   "metadata": {},
   "outputs": [],
   "source": [
    "# add some styles to make the page look better\n",
    "\n",
    "out = \"\"\"\n",
    "<style>\n",
    "body {width: 800px; margin:auto}\n",
    "a {text-decoration: none; font-size:120%}\n",
    "</style>\n",
    "<table cellpadding=5>\n",
    "\"\"\"\n",
    "for ingredient, first_sentences, href in zip(df_final.ingredient, df_final.first_sentences, df_final.href):\n",
    "    row = f\"<tr><td align=right valign=top><a target=_blank href=\\\"{href}\\\">{ingredient}</a><td>{first_sentences}</tr>\"\n",
    "    out += row\n",
    "    \n",
    "html_outfile = '/tmp/a.html'\n",
    "open(html_outfile, 'w').write(out)\n",
    "html_outfile"
   ]
  }
 ],
 "metadata": {
  "kernelspec": {
   "display_name": "Python 3",
   "language": "python",
   "name": "python3"
  },
  "language_info": {
   "codemirror_mode": {
    "name": "ipython",
    "version": 3
   },
   "file_extension": ".py",
   "mimetype": "text/x-python",
   "name": "python",
   "nbconvert_exporter": "python",
   "pygments_lexer": "ipython3",
   "version": "3.6.3"
  }
 },
 "nbformat": 4,
 "nbformat_minor": 2
}
